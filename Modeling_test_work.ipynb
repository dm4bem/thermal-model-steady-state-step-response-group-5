{
 "cells": [
  {
   "cell_type": "markdown",
   "id": "726e4585-9380-4092-bde1-296dbf204412",
   "metadata": {},
   "source": [
    "# Base case scenario\n",
    "\n",
    "text"
   ]
  },
  {
   "cell_type": "markdown",
   "id": "6b111636-f153-41e9-8db3-05a7567dc229",
   "metadata": {},
   "source": []
  },
  {
   "cell_type": "code",
   "execution_count": 1,
   "id": "8627c9de-fead-4101-a44d-3fcaf5fe849f",
   "metadata": {
    "tags": []
   },
   "outputs": [
    {
     "name": "stdout",
     "output_type": "stream",
     "text": [
      "σ = 5.67e-08 W/(m²⋅K⁴)\n",
      "For 0°C < (T/K - 273.15)°C < 40°C, 4σT³/[W/(m²·K)] ∈ [4.6 7. ]\n",
      "For 10°C < (T/K - 273.15)°C < 30°C, 4σT³/[W/(m²·K)] ∈ [5.1 6.3]\n",
      "For (T/K - 273.15)°C = 20°C, 4σT³ = 5.7 W/(m²·K)\n",
      "θss = [10. 10. 10. 10. 10. 10. 10. 10.] °C\n",
      "uss = [10 10 10 20  0  0  0  0]\n",
      "yss = 10.00 °C\n",
      "Error between DAE and state-space: 5.33e-15 °C\n",
      "Time constants:\n",
      "['249.30 s', '4093.20 s', '6729.11 s', '44033.06 s']\n",
      "\n",
      "2 x Time constants:\n",
      "['498.60 s', '8186.41 s', '13458.22 s', '88066.12 s']\n",
      "\n",
      "Maximum time step: 498.60 s = 8.31 min\n",
      "dt = 480.0 s = 8 min\n",
      "4 * Time constants: \n",
      " [   996  16372  26916 176132] s \n",
      "\n",
      "Settling time: 176132 s = 2935.5 min = 48.93 h = 2.04 days\n"
     ]
    }
   ],
   "source": [
    "%run Modeling.py"
   ]
  },
  {
   "cell_type": "code",
   "execution_count": null,
   "id": "0f8261ca-2de2-44f9-a294-b182b7660d59",
   "metadata": {},
   "outputs": [],
   "source": []
  },
  {
   "cell_type": "code",
   "execution_count": null,
   "id": "cfacaf98-e6a1-42c5-aa22-760de4819acd",
   "metadata": {},
   "outputs": [],
   "source": []
  }
 ],
 "metadata": {
  "kernelspec": {
   "display_name": "Python 3 (ipykernel)",
   "language": "python",
   "name": "python3"
  },
  "language_info": {
   "codemirror_mode": {
    "name": "ipython",
    "version": 3
   },
   "file_extension": ".py",
   "mimetype": "text/x-python",
   "name": "python",
   "nbconvert_exporter": "python",
   "pygments_lexer": "ipython3",
   "version": "3.11.5"
  }
 },
 "nbformat": 4,
 "nbformat_minor": 5
}
